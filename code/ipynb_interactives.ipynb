{
 "cells": [
  {
   "cell_type": "markdown",
   "metadata": {},
   "source": [
    "# IPYNB Interactives"
   ]
  },
  {
   "cell_type": "code",
   "execution_count": 1,
   "metadata": {},
   "outputs": [],
   "source": [
    "from enum import Enum\n",
    "\n",
    "class Feature(Enum):\n",
    "    SECOND = \"SECOND\"\n",
    "    MINUTE = \"MINUTE\"\n",
    "    HOUR = \"HOUR\"\n",
    "    WORKING_HOUR = \"WORKING_HOUR\"\n",
    "    MONTH = \"MONTH\"\n",
    "    MONTH_ONE_HOT_ENCODED = \"MONTH_ONE_HOT_ENCODED\"\n",
    "    DAY_OF_THE_YEAR = \"DAY_OF_THE_YEAR\"\n",
    "    DAY_OF_THE_WEEK = \"DAY_OF_THE_WEEK\"\n",
    "    WEEK_OF_THE_YEAR = \"WEEK_OF_THE_YEAR\"\n",
    "    WEEK_OF_THE_MONTH = \"WEEK_OF_THE_MONTH\"\n",
    "    WORKING_DAY = \"WORKING_DAY\"\n",
    "    QUARTER = \"QUARTER\"\n",
    "    SEASON = \"SEASON\"\n",
    "    LAG_1 = \"LAG_1\"\n",
    "    LAG_7 = \"LAG_7\"\n",
    "    ROLLING_MEAN_1_DAY_WINDOWSIZE_1_DAY_SHIFT = \"ROLLING_MEAN_1_DAY_WINDOWSIZE_1_DAY_SHIFT\"\n",
    "    ROLLING_MEAN_1_HOUR_WINDOWSIZE_1_DAY_SHIFT = \"ROLLING_MEAN_1_HOUR_WINDOWSIZE_1_DAY_SHIFT\"\n",
    "    ROLLING_MEAN_1_HOUR_WINDOWSIZE_7_DAY_SHIFT = \"ROLLING_MEAN_1_HOUR_WINDOWSIZE_7_DAY_SHIFT\"\n",
    "    EXPONENTIAL_WEIGHTED_MEAN_1_DAY_SHIFT = \"EXPONENTIAL_WEIGHTED_MEAN_1_DAY_SHIFT\"\n",
    "    EXPONENTIAL_WEIGHTED_MEAN_7_DAY_SHIFT = \"EXPONENTIAL_WEIGHTED_MEAN_7_DAY_SHIFT\"\n",
    "    EXPAND_SUM = \"EXPAND_SUM\"\n",
    "    MASS_FLOW = \"MASS_FLOW\"\n",
    "    CORRELATION = \"CORRELATION\""
   ]
  },
  {
   "cell_type": "code",
   "execution_count": null,
   "metadata": {},
   "outputs": [
    {
     "name": "stdout",
     "output_type": "stream",
     "text": [
      "################################\n",
      "            GENERAL\n",
      "################################\n"
     ]
    },
    {
     "data": {
      "application/vnd.jupyter.widget-view+json": {
       "model_id": "ebc23170527b448e8a6944743c98ac2c",
       "version_major": 2,
       "version_minor": 0
      },
      "text/plain": [
       "Checkbox(value=True, description='Scaling', tooltip='Toggle Scaling')"
      ]
     },
     "metadata": {},
     "output_type": "display_data"
    },
    {
     "data": {
      "application/vnd.jupyter.widget-view+json": {
       "model_id": "47f661b325514bbb8b9ebe645bb5ea87",
       "version_major": 2,
       "version_minor": 0
      },
      "text/plain": [
       "Checkbox(value=False, description='Using New Machine Data', tooltip='Do you use not the hacker and conveyor?')"
      ]
     },
     "metadata": {},
     "output_type": "display_data"
    },
    {
     "data": {
      "application/vnd.jupyter.widget-view+json": {
       "model_id": "69f1a7e03a73422eb55760a5cd76acbd",
       "version_major": 2,
       "version_minor": 0
      },
      "text/plain": [
       "DatePicker(value=datetime.date(2023, 9, 13), description='Train Start Date', step=1)"
      ]
     },
     "metadata": {},
     "output_type": "display_data"
    },
    {
     "data": {
      "application/vnd.jupyter.widget-view+json": {
       "model_id": "41d7de2486574a6ebab98000f8559c1d",
       "version_major": 2,
       "version_minor": 0
      },
      "text/plain": [
       "DatePicker(value=datetime.date(2023, 11, 27), description='Train End Date', step=1)"
      ]
     },
     "metadata": {},
     "output_type": "display_data"
    },
    {
     "data": {
      "application/vnd.jupyter.widget-view+json": {
       "model_id": "d8d35e07452f4bae8c4aa0cbaa593916",
       "version_major": 2,
       "version_minor": 0
      },
      "text/plain": [
       "DatePicker(value=datetime.date(2023, 11, 28), description='Test Start Date', step=1)"
      ]
     },
     "metadata": {},
     "output_type": "display_data"
    },
    {
     "data": {
      "application/vnd.jupyter.widget-view+json": {
       "model_id": "dfaf5db92ff342b280a8361a18aff558",
       "version_major": 2,
       "version_minor": 0
      },
      "text/plain": [
       "DatePicker(value=datetime.date(2023, 12, 10), description='Test End Date', step=1)"
      ]
     },
     "metadata": {},
     "output_type": "display_data"
    },
    {
     "data": {
      "application/vnd.jupyter.widget-view+json": {
       "model_id": "e575f26bb7f7402b9de03c2c159ccad6",
       "version_major": 2,
       "version_minor": 0
      },
      "text/plain": [
       "ColorPicker(value='#a225d0', description='Prediction Color')"
      ]
     },
     "metadata": {},
     "output_type": "display_data"
    },
    {
     "data": {
      "application/vnd.jupyter.widget-view+json": {
       "model_id": "de13145f4d0b4fa0953d8bfe5ce5904c",
       "version_major": 2,
       "version_minor": 0
      },
      "text/plain": [
       "ColorPicker(value='#d0ab25', description='Groundtruth Color')"
      ]
     },
     "metadata": {},
     "output_type": "display_data"
    },
    {
     "name": "stdout",
     "output_type": "stream",
     "text": [
      "\n",
      "################################\n",
      "             MODEL\n",
      "################################\n"
     ]
    },
    {
     "data": {
      "application/vnd.jupyter.widget-view+json": {
       "model_id": "b81551e87af74af1bee242a8f3262efd",
       "version_major": 2,
       "version_minor": 0
      },
      "text/plain": [
       "Dropdown(description='Model:', options=('Random Forest', 'TSMixer'), value='Random Forest')"
      ]
     },
     "metadata": {},
     "output_type": "display_data"
    },
    {
     "data": {
      "application/vnd.jupyter.widget-view+json": {
       "model_id": "08de1e5b966b4405a999ce5d326b7dfc",
       "version_major": 2,
       "version_minor": 0
      },
      "text/plain": [
       "IntSlider(value=12, description='n_estimators:', max=800, min=1)"
      ]
     },
     "metadata": {},
     "output_type": "display_data"
    },
    {
     "data": {
      "application/vnd.jupyter.widget-view+json": {
       "model_id": "eeee73c298c346899f34ea82332be640",
       "version_major": 2,
       "version_minor": 0
      },
      "text/plain": [
       "Dropdown(description='criterion:', options=('mse', 'friedman_mse', 'poisson'), value='mse')"
      ]
     },
     "metadata": {},
     "output_type": "display_data"
    },
    {
     "data": {
      "application/vnd.jupyter.widget-view+json": {
       "model_id": "75ab5851790a41fd857590e1b05b994b",
       "version_major": 2,
       "version_minor": 0
      },
      "text/plain": [
       "IntSlider(value=100, description='max_depth:', max=800, min=1)"
      ]
     },
     "metadata": {},
     "output_type": "display_data"
    },
    {
     "data": {
      "application/vnd.jupyter.widget-view+json": {
       "model_id": "9ef048d688164b87bd4ea01a6eda39c0",
       "version_major": 2,
       "version_minor": 0
      },
      "text/plain": [
       "FloatSlider(value=1.0, description='max_features:', max=1.0, min=0.01, step=0.01)"
      ]
     },
     "metadata": {},
     "output_type": "display_data"
    },
    {
     "data": {
      "application/vnd.jupyter.widget-view+json": {
       "model_id": "2ee34a48a65549628090aee584af0b9d",
       "version_major": 2,
       "version_minor": 0
      },
      "text/plain": [
       "Checkbox(value=False, description='bootstrap')"
      ]
     },
     "metadata": {},
     "output_type": "display_data"
    },
    {
     "name": "stdout",
     "output_type": "stream",
     "text": [
      "\n",
      "################################\n",
      "           FEATURES\n",
      "################################\n"
     ]
    },
    {
     "data": {
      "application/vnd.jupyter.widget-view+json": {
       "model_id": "e9e9860a26744197a28286231457e047",
       "version_major": 2,
       "version_minor": 0
      },
      "text/plain": [
       "Checkbox(value=False, description='SECOND', tooltip='Should that feature be used?')"
      ]
     },
     "metadata": {},
     "output_type": "display_data"
    },
    {
     "data": {
      "application/vnd.jupyter.widget-view+json": {
       "model_id": "33a5fd57673e4aa8a8b16fcd5c58cc70",
       "version_major": 2,
       "version_minor": 0
      },
      "text/plain": [
       "Checkbox(value=False, description='MINUTE', tooltip='Should that feature be used?')"
      ]
     },
     "metadata": {},
     "output_type": "display_data"
    },
    {
     "data": {
      "application/vnd.jupyter.widget-view+json": {
       "model_id": "fcd9d928538c421aae696f57e1a71eed",
       "version_major": 2,
       "version_minor": 0
      },
      "text/plain": [
       "Checkbox(value=False, description='HOUR', tooltip='Should that feature be used?')"
      ]
     },
     "metadata": {},
     "output_type": "display_data"
    },
    {
     "data": {
      "application/vnd.jupyter.widget-view+json": {
       "model_id": "645bf32637bf4822ad221f145a5389d4",
       "version_major": 2,
       "version_minor": 0
      },
      "text/plain": [
       "Checkbox(value=False, description='WORKING_HOUR', tooltip='Should that feature be used?')"
      ]
     },
     "metadata": {},
     "output_type": "display_data"
    },
    {
     "data": {
      "application/vnd.jupyter.widget-view+json": {
       "model_id": "d93499d7152b42528409b480f15f241b",
       "version_major": 2,
       "version_minor": 0
      },
      "text/plain": [
       "Checkbox(value=False, description='MONTH', tooltip='Should that feature be used?')"
      ]
     },
     "metadata": {},
     "output_type": "display_data"
    },
    {
     "data": {
      "application/vnd.jupyter.widget-view+json": {
       "model_id": "b8b3894c49614813b446f47ea52b4605",
       "version_major": 2,
       "version_minor": 0
      },
      "text/plain": [
       "Checkbox(value=False, description='MONTH_ONE_HOT_ENCODED', tooltip='Should that feature be used?')"
      ]
     },
     "metadata": {},
     "output_type": "display_data"
    },
    {
     "data": {
      "application/vnd.jupyter.widget-view+json": {
       "model_id": "ee9f5ef04fe74bf787d97aa44f42678f",
       "version_major": 2,
       "version_minor": 0
      },
      "text/plain": [
       "Checkbox(value=False, description='DAY_OF_THE_YEAR', tooltip='Should that feature be used?')"
      ]
     },
     "metadata": {},
     "output_type": "display_data"
    },
    {
     "data": {
      "application/vnd.jupyter.widget-view+json": {
       "model_id": "1d22f1dadb4349738a62f2d90f1a6bc2",
       "version_major": 2,
       "version_minor": 0
      },
      "text/plain": [
       "Checkbox(value=False, description='DAY_OF_THE_WEEK', tooltip='Should that feature be used?')"
      ]
     },
     "metadata": {},
     "output_type": "display_data"
    },
    {
     "data": {
      "application/vnd.jupyter.widget-view+json": {
       "model_id": "ad16bc7966444af2983fa0fd820ecc34",
       "version_major": 2,
       "version_minor": 0
      },
      "text/plain": [
       "Checkbox(value=False, description='WEEK_OF_THE_YEAR', tooltip='Should that feature be used?')"
      ]
     },
     "metadata": {},
     "output_type": "display_data"
    },
    {
     "data": {
      "application/vnd.jupyter.widget-view+json": {
       "model_id": "628ff1e0fc4c458da8f3737839f1b381",
       "version_major": 2,
       "version_minor": 0
      },
      "text/plain": [
       "Checkbox(value=False, description='WEEK_OF_THE_MONTH', tooltip='Should that feature be used?')"
      ]
     },
     "metadata": {},
     "output_type": "display_data"
    },
    {
     "data": {
      "application/vnd.jupyter.widget-view+json": {
       "model_id": "e453b6dcf0454b5a8daf64e8c503a3e8",
       "version_major": 2,
       "version_minor": 0
      },
      "text/plain": [
       "Checkbox(value=False, description='WORKING_DAY', tooltip='Should that feature be used?')"
      ]
     },
     "metadata": {},
     "output_type": "display_data"
    },
    {
     "data": {
      "application/vnd.jupyter.widget-view+json": {
       "model_id": "94961fa931c1414e8c19452a26fb5456",
       "version_major": 2,
       "version_minor": 0
      },
      "text/plain": [
       "Checkbox(value=False, description='QUARTER', tooltip='Should that feature be used?')"
      ]
     },
     "metadata": {},
     "output_type": "display_data"
    },
    {
     "data": {
      "application/vnd.jupyter.widget-view+json": {
       "model_id": "3cfbbca5d4b24bedae9d484cd6a6f56c",
       "version_major": 2,
       "version_minor": 0
      },
      "text/plain": [
       "Checkbox(value=False, description='SEASON', tooltip='Should that feature be used?')"
      ]
     },
     "metadata": {},
     "output_type": "display_data"
    },
    {
     "data": {
      "application/vnd.jupyter.widget-view+json": {
       "model_id": "8bd1f92c331b4569a14dfe82cfa219bd",
       "version_major": 2,
       "version_minor": 0
      },
      "text/plain": [
       "Checkbox(value=False, description='LAG_1', tooltip='Should that feature be used?')"
      ]
     },
     "metadata": {},
     "output_type": "display_data"
    },
    {
     "data": {
      "application/vnd.jupyter.widget-view+json": {
       "model_id": "73f053089ce34db7b00dedcc7eab87a7",
       "version_major": 2,
       "version_minor": 0
      },
      "text/plain": [
       "Checkbox(value=False, description='LAG_7', tooltip='Should that feature be used?')"
      ]
     },
     "metadata": {},
     "output_type": "display_data"
    },
    {
     "data": {
      "application/vnd.jupyter.widget-view+json": {
       "model_id": "db4a04ab4ba04430bc45d47325fb3f46",
       "version_major": 2,
       "version_minor": 0
      },
      "text/plain": [
       "Checkbox(value=False, description='ROLLING_MEAN_1_DAY_WINDOWSIZE_1_DAY_SHIFT', tooltip='Should that feature be…"
      ]
     },
     "metadata": {},
     "output_type": "display_data"
    },
    {
     "data": {
      "application/vnd.jupyter.widget-view+json": {
       "model_id": "22b84b98cefa4f05813121786bb235fe",
       "version_major": 2,
       "version_minor": 0
      },
      "text/plain": [
       "Checkbox(value=False, description='ROLLING_MEAN_1_HOUR_WINDOWSIZE_1_DAY_SHIFT', tooltip='Should that feature b…"
      ]
     },
     "metadata": {},
     "output_type": "display_data"
    },
    {
     "data": {
      "application/vnd.jupyter.widget-view+json": {
       "model_id": "278cc6d177694a61b4cc1a619869bcd5",
       "version_major": 2,
       "version_minor": 0
      },
      "text/plain": [
       "Checkbox(value=False, description='ROLLING_MEAN_1_HOUR_WINDOWSIZE_7_DAY_SHIFT', tooltip='Should that feature b…"
      ]
     },
     "metadata": {},
     "output_type": "display_data"
    },
    {
     "data": {
      "application/vnd.jupyter.widget-view+json": {
       "model_id": "806993a621a044bf9ff804acf1626bea",
       "version_major": 2,
       "version_minor": 0
      },
      "text/plain": [
       "Checkbox(value=False, description='EXPONENTIAL_WEIGHTED_MEAN_1_DAY_SHIFT', tooltip='Should that feature be use…"
      ]
     },
     "metadata": {},
     "output_type": "display_data"
    },
    {
     "data": {
      "application/vnd.jupyter.widget-view+json": {
       "model_id": "4d8359e3ebde4ba4ad8348c583bfc7eb",
       "version_major": 2,
       "version_minor": 0
      },
      "text/plain": [
       "Checkbox(value=False, description='EXPONENTIAL_WEIGHTED_MEAN_7_DAY_SHIFT', tooltip='Should that feature be use…"
      ]
     },
     "metadata": {},
     "output_type": "display_data"
    },
    {
     "data": {
      "application/vnd.jupyter.widget-view+json": {
       "model_id": "2c0d75957a584abea2b2f6802d898c13",
       "version_major": 2,
       "version_minor": 0
      },
      "text/plain": [
       "Checkbox(value=False, description='EXPAND_SUM', tooltip='Should that feature be used?')"
      ]
     },
     "metadata": {},
     "output_type": "display_data"
    },
    {
     "data": {
      "application/vnd.jupyter.widget-view+json": {
       "model_id": "57c2328c948742dd9894b666760eaf85",
       "version_major": 2,
       "version_minor": 0
      },
      "text/plain": [
       "Checkbox(value=False, description='MASS_FLOW', tooltip='Should that feature be used?')"
      ]
     },
     "metadata": {},
     "output_type": "display_data"
    },
    {
     "data": {
      "application/vnd.jupyter.widget-view+json": {
       "model_id": "3de3af4cff3a4474a7425f8f7ad5e9b4",
       "version_major": 2,
       "version_minor": 0
      },
      "text/plain": [
       "Checkbox(value=False, description='CORRELATION', tooltip='Should that feature be used?')"
      ]
     },
     "metadata": {},
     "output_type": "display_data"
    }
   ],
   "source": [
    "import ipywidgets as widgets\n",
    "from IPython.display import display, clear_output\n",
    "from datetime import datetime\n",
    "\n",
    "##################################\n",
    "# Helper functions and listeners #\n",
    "##################################\n",
    "\n",
    "def display_widgets():\n",
    "    \"\"\"\n",
    "    Display widgets for configuration.\n",
    "    \"\"\"\n",
    "    print(f\"{'#'*32}\\n            GENERAL\\n{'#'*32}\")\n",
    "    display(scaling_check)\n",
    "    display(new_machine_check)\n",
    "    [display(new_machine_widget) for new_machine_widget in new_machine_widgets]\n",
    "    [display(date_widget) for date_widget in date_widgets]\n",
    "    display(prediction_color)\n",
    "    display(true_color)\n",
    "    print(f\"\\n{'#'*32}\\n             MODEL\\n{'#'*32}\")\n",
    "    display(models_list)\n",
    "    [display(hyperparameter_widget) for hyperparameter_widget in hyperparameter_widgets]\n",
    "    print(f\"\\n{'#'*32}\\n           FEATURES\\n{'#'*32}\")\n",
    "    [display(feature_widget) for feature_widget in feature_widgets]\n",
    "\n",
    "def create_feature_widgets(exclude=[], first_5_true=False):\n",
    "    \"\"\"\n",
    "    Create feature widgets based on provided configurations.\n",
    "\n",
    "    Args:\n",
    "    - exclude (list): Features to exclude.\n",
    "    - first_5_true (bool): Whether the first 5 features should be set to True.\n",
    "\n",
    "    Returns:\n",
    "    - list: List of feature widgets.\n",
    "    \"\"\"\n",
    "    feature_widgets = []\n",
    "    counter = 0\n",
    "    for feature in Feature.__members__:\n",
    "        if feature not in exclude:\n",
    "            if first_5_true and counter < 5:\n",
    "                value = True\n",
    "            else:\n",
    "                value = False\n",
    "            feature_check = widgets.Checkbox(\n",
    "                value=value,\n",
    "                description=f'{feature}',\n",
    "                disabled=False,\n",
    "                tooltip='Should that feature be used?',\n",
    "                icon='check'\n",
    "            )\n",
    "            feature_widgets += [feature_check]\n",
    "            counter += 1\n",
    "    return feature_widgets\n",
    "\n",
    "def get_hyperparameter_widgets(model):\n",
    "    \"\"\"\n",
    "    Get hyperparameter widgets based on the selected model.\n",
    "\n",
    "    Args:\n",
    "    - model (str): Selected model.\n",
    "\n",
    "    Returns:\n",
    "    - list: List of hyperparameter widgets.\n",
    "    \"\"\"\n",
    "    hyperparameter_widgets = []\n",
    "    if model == \"Random Forest\":\n",
    "        hyperparameter_widgets += [widgets.IntSlider(\n",
    "            value=12,\n",
    "            min=1,\n",
    "            max=800,\n",
    "            step=1,\n",
    "            description='n_estimators:',\n",
    "            disabled=False,\n",
    "            readout_format='d'\n",
    "        )]\n",
    "        hyperparameter_widgets += [widgets.Dropdown(\n",
    "            options=['mse', 'friedman_mse', 'poisson'],\n",
    "            value='mse',\n",
    "            description='criterion:',\n",
    "            disabled=False\n",
    "        )]\n",
    "        hyperparameter_widgets += [widgets.IntSlider(\n",
    "            value=100,\n",
    "            min=1,\n",
    "            max=800,\n",
    "            step=1,\n",
    "            description='max_depth:',\n",
    "            disabled=False,\n",
    "            readout_format='d'\n",
    "        )]\n",
    "        hyperparameter_widgets += [widgets.FloatSlider(\n",
    "            value=1.0,\n",
    "            min=0.01,\n",
    "            max=1.0,\n",
    "            step=0.01,\n",
    "            description='max_features:',\n",
    "            disabled=False,\n",
    "            readout_format='.2f',\n",
    "        )]\n",
    "        hyperparameter_widgets += [widgets.Checkbox(\n",
    "            value=False,\n",
    "            description='bootstrap',\n",
    "            disabled=False,\n",
    "            icon='check'\n",
    "        )]\n",
    "    elif model == \"TSMixer\":\n",
    "        hyperparameter_widgets += [widgets.IntSlider(\n",
    "            value=12,\n",
    "            min=1,\n",
    "            max=800,\n",
    "            step=1,\n",
    "            description='epochs:',\n",
    "            disabled=False,\n",
    "            readout_format='d'\n",
    "        )]\n",
    "        hyperparameter_widgets += [widgets.FloatSlider(\n",
    "            value=0.01,\n",
    "            min=0.000001,\n",
    "            max=0.099999,\n",
    "            step=0.000001,\n",
    "            description='learning_rate:',\n",
    "            disabled=False,\n",
    "            readout_format='.6f'\n",
    "        )]\n",
    "        hyperparameter_widgets += [widgets.IntSlider(\n",
    "            value=12,\n",
    "            min=1,\n",
    "            max=800,\n",
    "            step=1,\n",
    "            description='n_blocks:',\n",
    "            disabled=False,\n",
    "            readout_format='d'\n",
    "        )]\n",
    "        hyperparameter_widgets += [widgets.IntSlider(\n",
    "            value=12,\n",
    "            min=1,\n",
    "            max=800,\n",
    "            step=1,\n",
    "            description='ff_dimensions:',\n",
    "            disabled=False,\n",
    "            readout_format='d'\n",
    "        )]\n",
    "        hyperparameter_widgets += [widgets.FloatSlider(\n",
    "            value=0.1,\n",
    "            min=0.00,\n",
    "            max=0.99,\n",
    "            step=0.01,\n",
    "            description='dropout:',\n",
    "            disabled=False,\n",
    "            readout_format='.2f'\n",
    "        )]\n",
    "        hyperparameter_widgets += [widgets.Dropdown(\n",
    "            options=['relu', 'sigmoid', 'tanh', 'laekyrelu'],\n",
    "            value='laekyrelu',\n",
    "            description='activation:',\n",
    "            disabled=False\n",
    "        )]\n",
    "        hyperparameter_widgets += [widgets.Dropdown(\n",
    "            options=['mean squared error', 'mean absolute error', 'cross entropy loss'],\n",
    "            value='mean squared error',\n",
    "            description='loss:',\n",
    "            disabled=False\n",
    "        )]\n",
    "        hyperparameter_widgets += [widgets.Dropdown(\n",
    "            options=['Adam', 'SGD', 'ASGD', 'Rprop', 'Adagrad'],\n",
    "            value='Adam',\n",
    "            description='optimizer:',\n",
    "            disabled=False\n",
    "        )]\n",
    "    return hyperparameter_widgets\n",
    "\n",
    "def update_hyperparameters(change):\n",
    "    \"\"\"\n",
    "    Update hyperparameters based on the selected model.\n",
    "\n",
    "    Args:\n",
    "    - change (object): Change object.\n",
    "    \"\"\"\n",
    "    global hyperparameter_widgets\n",
    "    selected_model = change.new\n",
    "    hyperparameter_widgets = get_hyperparameter_widgets(selected_model)\n",
    "    clear_output()\n",
    "    display_widgets()\n",
    "\n",
    "def get_new_machine_widgets():\n",
    "    \"\"\"\n",
    "    Get widgets for a new machine.\n",
    "\n",
    "    Returns:\n",
    "    - list: List of new machine widgets.\n",
    "    \"\"\"\n",
    "    new_machine_widgets = []\n",
    "    new_machine_widgets += [widgets.Text(\n",
    "                            value='Date',\n",
    "                            placeholder='Date',\n",
    "                            description='Time Column Name',\n",
    "                            disabled=False   \n",
    "                        )]\n",
    "    new_machine_widgets += [widgets.Text(\n",
    "                            value='y',\n",
    "                            placeholder='y',\n",
    "                            description='Target Column Name',\n",
    "                            disabled=False   \n",
    "                        )]\n",
    "    new_machine_widgets += [widgets.Text(\n",
    "                            value=',',\n",
    "                            placeholder=',',\n",
    "                            description='Seperator',\n",
    "                            disabled=False   \n",
    "                        )]\n",
    "    return new_machine_widgets\n",
    "\n",
    "def update_features(change):\n",
    "    \"\"\"\n",
    "    Update features based on the selection of using a new machine or not.\n",
    "\n",
    "    Args:\n",
    "    - change (object): Change object.\n",
    "    \"\"\"\n",
    "    global new_machine_widgets\n",
    "    global feature_widgets\n",
    "    new_machine = change.new\n",
    "    clear_output()\n",
    "    if new_machine:\n",
    "        new_machine_widgets = get_new_machine_widgets()\n",
    "        feature_widgets = create_feature_widgets(exclude=[\"CORRELATION\", \"MASS_FLOW\"])\n",
    "        display_widgets()\n",
    "    else:\n",
    "        new_machine_widgets = []\n",
    "        feature_widgets = create_feature_widgets()\n",
    "        display_widgets()\n",
    "\n",
    "##################\n",
    "# Create Widgets #\n",
    "##################\n",
    "\n",
    "scaling_check = widgets.Checkbox(\n",
    "    value=False,\n",
    "    description='Scaling',\n",
    "    disabled=False,\n",
    "    tooltip='Toggle Scaling',\n",
    "    icon='check'\n",
    ")\n",
    "\n",
    "new_machine_check = widgets.Checkbox(\n",
    "    value=False,\n",
    "    description='Using New Machine Data',\n",
    "    disabled=False,\n",
    "    tooltip='Do you use not the hacker and conveyor?',\n",
    "    icon='check'\n",
    ")\n",
    "\n",
    "date_widgets = []\n",
    "date_widgets += [widgets.DatePicker(\n",
    "                        value=datetime.strptime('13.09.2023', \"%d.%m.%Y\").date(),\n",
    "                        description='Train Start Date',\n",
    "                        disabled=False\n",
    "                    )]\n",
    "date_widgets += [widgets.DatePicker(\n",
    "                        value=datetime.strptime('27.11.2023', \"%d.%m.%Y\").date(),\n",
    "                        description='Train End Date',\n",
    "                        disabled=False\n",
    "                    )]\n",
    "date_widgets += [widgets.DatePicker(\n",
    "                        value=datetime.strptime('28.11.2023', \"%d.%m.%Y\").date(),\n",
    "                        description='Test Start Date',\n",
    "                        disabled=False\n",
    "                    )]\n",
    "date_widgets += [widgets.DatePicker(\n",
    "                        value=datetime.strptime('10.12.2023', \"%d.%m.%Y\").date(),\n",
    "                        description='Test End Date',\n",
    "                        disabled=False\n",
    "                    )]\n",
    "\n",
    "prediction_color = widgets.ColorPicker(\n",
    "    concise=False,\n",
    "    description='Prediction Color',\n",
    "    value='#a225d0',\n",
    "    disabled=False\n",
    ")\n",
    "\n",
    "true_color = widgets.ColorPicker(\n",
    "    concise=False,\n",
    "    description='Groundtruth Color',\n",
    "    value='#d0ab25',\n",
    "    disabled=False\n",
    ")\n",
    "\n",
    "models_list = widgets.Dropdown(\n",
    "    options=['Random Forest', 'TSMixer'],\n",
    "    value='Random Forest',\n",
    "    description='Model:',\n",
    "    disabled=False\n",
    ")\n",
    "\n",
    "hyperparameter_widgets = get_hyperparameter_widgets(\"Random Forest\")\n",
    "\n",
    "feature_widgets = create_feature_widgets(first_5_true=True)\n",
    "\n",
    "####################\n",
    "# Attach listserns #\n",
    "####################\n",
    "\n",
    "# Event observing for model choice\n",
    "models_list.observe(update_hyperparameters, names='value')\n",
    "\n",
    "# Event observing for new machine choice\n",
    "new_machine_check.observe(update_features, names='value')\n",
    "\n",
    "\n",
    "\n",
    "# Display widgets\n",
    "display_widgets()\n"
   ]
  },
  {
   "cell_type": "markdown",
   "metadata": {},
   "source": [
    "### Get Values"
   ]
  },
  {
   "cell_type": "code",
   "execution_count": 2,
   "metadata": {},
   "outputs": [
    {
     "data": {
      "text/plain": [
       "False"
      ]
     },
     "execution_count": 2,
     "metadata": {},
     "output_type": "execute_result"
    }
   ],
   "source": [
    "scaling_check.value"
   ]
  },
  {
   "cell_type": "code",
   "execution_count": 3,
   "metadata": {},
   "outputs": [
    {
     "data": {
      "text/plain": [
       "'13.09.2023'"
      ]
     },
     "execution_count": 3,
     "metadata": {},
     "output_type": "execute_result"
    }
   ],
   "source": [
    "date_widgets[0].value.strftime(\"%d.%m.%Y\")"
   ]
  },
  {
   "cell_type": "code",
   "execution_count": 2,
   "metadata": {},
   "outputs": [
    {
     "data": {
      "text/plain": [
       "'TSMixer'"
      ]
     },
     "execution_count": 2,
     "metadata": {},
     "output_type": "execute_result"
    }
   ],
   "source": [
    "models_list.value"
   ]
  },
  {
   "cell_type": "code",
   "execution_count": 5,
   "metadata": {},
   "outputs": [
    {
     "data": {
      "text/plain": [
       "[IntSlider(value=12, description='epochs:', max=800, min=1),\n",
       " FloatSlider(value=0.009999999999999998, description='learning_rate:', max=0.099999, min=1e-06, readout_format='.6f', step=1e-06),\n",
       " IntSlider(value=12, description='n_blocks:', max=800, min=1),\n",
       " IntSlider(value=12, description='ff_dimensions:', max=800, min=1),\n",
       " FloatSlider(value=0.10000000000000002, description='dropout:', max=0.99, step=0.01),\n",
       " Dropdown(description='activation:', index=3, options=('relu', 'sigmoid', 'tanh', 'laekyrelu'), value='laekyrelu'),\n",
       " Dropdown(description='loss:', options=('mean squared error', 'mean absolute error', 'cross entropy loss'), value='mean squared error'),\n",
       " Dropdown(description='optimizer:', options=('Adam', 'SGD', 'ASGD', 'Rprop', 'Adagrad'), value='Adam')]"
      ]
     },
     "execution_count": 5,
     "metadata": {},
     "output_type": "execute_result"
    }
   ],
   "source": [
    "hyperparameter_widgets"
   ]
  }
 ],
 "metadata": {
  "kernelspec": {
   "display_name": "Python 3",
   "language": "python",
   "name": "python3"
  },
  "language_info": {
   "codemirror_mode": {
    "name": "ipython",
    "version": 3
   },
   "file_extension": ".py",
   "mimetype": "text/x-python",
   "name": "python",
   "nbconvert_exporter": "python",
   "pygments_lexer": "ipython3",
   "version": "3.12.1"
  }
 },
 "nbformat": 4,
 "nbformat_minor": 2
}
